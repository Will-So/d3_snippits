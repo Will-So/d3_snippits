{
 "cells": [
  {
   "cell_type": "markdown",
   "metadata": {},
   "source": [
    "# General Setup Tips"
   ]
  },
  {
   "cell_type": "markdown",
   "metadata": {},
   "source": [
    "`python -m http.server 8889 &`"
   ]
  },
  {
   "cell_type": "markdown",
   "metadata": {},
   "source": [
    "# Javascript basics"
   ]
  },
  {
   "cell_type": "markdown",
   "metadata": {},
   "source": [
    "```javascript\n",
    "var numbers = [8, 100, 22, 98, 99, 45];\n",
    "\n",
    "for (var i = 0; i < numbers.length; i++){\n",
    "    console.log(numbers[i])\n",
    "}\n",
    "```"
   ]
  },
  {
   "cell_type": "markdown",
   "metadata": {},
   "source": [
    "## Functions"
   ]
  },
  {
   "cell_type": "markdown",
   "metadata": {},
   "source": [
    "functions have the same syntax. Use camelCase `calculateGratuity(30);` \n",
    "\n",
    "```js \n",
    "var calculateGratuity = function(bill){\n",
    "    return bill * 0.2;\n",
    "}\n",
    "\n",
    "\n",
    "  /* JavaScript supports CSS-style\n",
    "  comments like this. */\n",
    "    // But double-slashes can be used as well.\n",
    "    // Anything following // on the same line will be ignored.\n",
    "    // This is helpful for including brief notes to yourself\n",
    "    // as to what each line of code does, as in:\n",
    "    \n",
    "```"
   ]
  },
  {
   "cell_type": "markdown",
   "metadata": {},
   "source": [
    "## We can include scripts directly in HTML or in Script"
   ]
  },
  {
   "cell_type": "markdown",
   "metadata": {},
   "source": [
    "```html\n",
    "<body>\n",
    "<script type=\"text/javascript\">\n",
    "alert(\"Hello, world!\"); </script>\n",
    "</body>\n",
    "\n",
    "<head>\n",
    "<title>Page Title</title>\n",
    "<script type=\"text/javascript\" src=\"myscript.js\"></script>\n",
    "</head>\n",
    "\n",
    "```"
   ]
  },
  {
   "cell_type": "markdown",
   "metadata": {},
   "source": [
    "## Top 4 Gotchas"
   ]
  },
  {
   "cell_type": "markdown",
   "metadata": {},
   "source": [
    "```js\n",
    "// Dynamic Typing\n",
    "var number = 5;\n",
    "var value = 12.3467;\n",
    "var active = true;\n",
    "var text = \"Crystal clear\";\n",
    "\n",
    "//The following always works\n",
    "var value = 100;\n",
    "value = 99.9999;\n",
    "value = false;\n",
    "value = \"This can't possibly work.\";\n",
    "value = \"Argh, it does work! No errorzzzz!\";\n",
    "\n",
    "typeof 67;\n",
    "typeof value; \n",
    "\n",
    "//Variable Hoisting. JS is usually executed in top-to-bottom order.\n",
    "\n",
    "var numLoops = 100;\n",
    "for (var i = 0; i < numLoops; i++) {\n",
    "        console.log(i);\n",
    "    }\n",
    "\n",
    "// is the same as \n",
    "\n",
    "var numLoops = 100;\n",
    "var i;\n",
    "for (i = 0; i < numLoops; i++) {\n",
    "        console.log(i);\n",
    "    }\n",
    "\n",
    "```"
   ]
  },
  {
   "cell_type": "markdown",
   "metadata": {},
   "source": [
    "## Notifying User if browser is too old"
   ]
  },
  {
   "cell_type": "markdown",
   "metadata": {},
   "source": [
    "Should always have this in the old. \n",
    "```html\n",
    "<script src=\"js/modernizr.js\"></script>\n",
    "<script type=\"text/javascript\"> Modernizr.load({\n",
    "                    test: Modernizr.svg && Modernizr.inlinesvg,\n",
    "                    yep : [ 'js/d3.v3.min.js',\n",
    "                           'js/script.js' ]\n",
    "});\n",
    "</script>\n",
    "```\n",
    "\n",
    "\n",
    "The yep part does not load d3 or script if svg is not supported. "
   ]
  },
  {
   "cell_type": "markdown",
   "metadata": {},
   "source": [
    "## General Process of creating a D3 Ap"
   ]
  },
  {
   "cell_type": "markdown",
   "metadata": {},
   "source": [
    "1. Download the latest version\n",
    "2. Create an empty page and write your code\n",
    "3. Setting up local code"
   ]
  },
  {
   "cell_type": "markdown",
   "metadata": {},
   "source": [
    "# Cheatsheet"
   ]
  },
  {
   "cell_type": "markdown",
   "metadata": {},
   "source": [
    "What | Code\n",
    "-- | -- |\n",
    "Select all paragraphs in body| `d3.select('body').selectAll('p')\n",
    "Print the fields for the data | `.text(function(d) {return d;}\n",
    "Make something in D3 red | `.style('color','red')`"
   ]
  },
  {
   "cell_type": "markdown",
   "metadata": {},
   "source": [
    "# Other Functions"
   ]
  },
  {
   "cell_type": "markdown",
   "metadata": {},
   "source": [
    "## Make values above 15 red and below 15 black"
   ]
  },
  {
   "cell_type": "markdown",
   "metadata": {},
   "source": [
    "```js\n",
    ".style('color', function(d){\n",
    "    if (d > 15){\n",
    "        return 'red';\n",
    "    }\n",
    "    else {\n",
    "        return 'black';\n",
    "    }\n",
    "\n",
    "```"
   ]
  },
  {
   "cell_type": "markdown",
   "metadata": {
    "collapsed": true
   },
   "source": [
    "# Random Data"
   ]
  },
  {
   "cell_type": "markdown",
   "metadata": {},
   "source": [
    "```js\n",
    "\n",
    "dataset = [];\n",
    "for (var i = 0; i <=20; i++){\n",
    "    var new_number = Math.random() * 30;\n",
    "    dataset.push(new_number);\n",
    "}"
   ]
  }
 ],
 "metadata": {
  "kernelspec": {
   "display_name": "Python 3",
   "language": "python",
   "name": "python3"
  },
  "language_info": {
   "codemirror_mode": {
    "name": "ipython",
    "version": 3
   },
   "file_extension": ".py",
   "mimetype": "text/x-python",
   "name": "python",
   "nbconvert_exporter": "python",
   "pygments_lexer": "ipython3",
   "version": "3.4.3"
  }
 },
 "nbformat": 4,
 "nbformat_minor": 0
}
